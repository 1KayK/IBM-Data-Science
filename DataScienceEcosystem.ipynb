{
 "cells": [
  {
   "cell_type": "markdown",
   "id": "0afd9061-0d63-4146-a82c-90ad4d3f424d",
   "metadata": {},
   "source": [
    "# Data Science Tools and Ecosystem\n"
   ]
  },
  {
   "cell_type": "markdown",
   "id": "bb3083b8-6958-4fea-92ae-bfb78f3338f9",
   "metadata": {},
   "source": [
    "#### In this notebook, Data Science tools and Ecosystem are summarized\n"
   ]
  },
  {
   "cell_type": "markdown",
   "id": "f248ceb2-c2c9-41c8-811e-412426544bfe",
   "metadata": {},
   "source": [
    " **Objectives**\n",
    " - list popular languages for python\n",
    " - convert hours to minutes\n",
    " - mutliplying and adding integers"
   ]
  },
  {
   "cell_type": "markdown",
   "id": "681c0a19-4beb-4f32-89b2-fa743380e6bd",
   "metadata": {},
   "source": [
    "### Some of the most popular languages data scientist use are:\n",
    "1. Python\n",
    "2. R\n",
    "3. SQL"
   ]
  },
  {
   "cell_type": "markdown",
   "id": "be228cfb-8a3c-4ea1-9750-7c26ea58585d",
   "metadata": {},
   "source": [
    "### Some of commonly used libraries used by data scientists include:\n",
    "1. Numpy\n",
    "2. pandas\n",
    "3. Scikit-learn"
   ]
  },
  {
   "cell_type": "markdown",
   "id": "bd3ccfa1-c7e1-4c15-a741-9b0de3dd43e9",
   "metadata": {},
   "source": [
    "|Data Science Tools|\n",
    "------------------\n",
    "|VS Code|\n",
    "|Anaconda|\n",
    "|IBM Watson Studio|\n"
   ]
  },
  {
   "cell_type": "markdown",
   "id": "21e0bf71-fce6-424f-a42f-bfe0d37d398d",
   "metadata": {},
   "source": [
    "### Below are a few examples of evaluating arithmetric expression in Python\n",
    "\n",
    "### 2 + 2\n",
    "### 10/2\n",
    "### 4*2"
   ]
  },
  {
   "cell_type": "code",
   "execution_count": 8,
   "id": "c5535d4b-db46-495f-bc0d-701c2ee86ff7",
   "metadata": {
    "tags": []
   },
   "outputs": [
    {
     "data": {
      "text/plain": [
       "17"
      ]
     },
     "execution_count": 8,
     "metadata": {},
     "output_type": "execute_result"
    }
   ],
   "source": [
    "# this is a sample arithmetric expression to multiply and add integers\n",
    "\n",
    "(3*4)+5"
   ]
  },
  {
   "cell_type": "code",
   "execution_count": 9,
   "id": "2d5c3168-610b-4a21-a363-fc191f741eb7",
   "metadata": {
    "tags": []
   },
   "outputs": [
    {
     "data": {
      "text/plain": [
       "3.3333333333333335"
      ]
     },
     "execution_count": 9,
     "metadata": {},
     "output_type": "execute_result"
    }
   ],
   "source": [
    "# this will convert 200 minutes into hours\n",
    "\n",
    "200/60"
   ]
  },
  {
   "cell_type": "markdown",
   "id": "861d0957-5a6d-4eb0-9fa3-cdb424f2d493",
   "metadata": {
    "tags": []
   },
   "source": [
    "## Author\n",
    "\n",
    "## Kay"
   ]
  },
  {
   "cell_type": "code",
   "execution_count": null,
   "id": "92128bec-a142-457d-8175-2457a754dd13",
   "metadata": {},
   "outputs": [],
   "source": []
  }
 ],
 "metadata": {
  "kernelspec": {
   "display_name": "Python",
   "language": "python",
   "name": "conda-env-python-py"
  },
  "language_info": {
   "codemirror_mode": {
    "name": "ipython",
    "version": 3
   },
   "file_extension": ".py",
   "mimetype": "text/x-python",
   "name": "python",
   "nbconvert_exporter": "python",
   "pygments_lexer": "ipython3",
   "version": "3.7.12"
  }
 },
 "nbformat": 4,
 "nbformat_minor": 5
}
